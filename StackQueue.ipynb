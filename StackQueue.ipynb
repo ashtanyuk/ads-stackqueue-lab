{
 "cells": [
  {
   "cell_type": "markdown",
   "metadata": {},
   "source": [
    "# Стек и очередь"
   ]
  },
  {
   "cell_type": "markdown",
   "metadata": {},
   "source": [
    "## Стек"
   ]
  },
  {
   "cell_type": "markdown",
   "metadata": {},
   "source": [
    "![](./img/stack1.png)"
   ]
  },
  {
   "cell_type": "markdown",
   "metadata": {},
   "source": [
    "### Реализация на массиве"
   ]
  },
  {
   "cell_type": "markdown",
   "metadata": {},
   "source": [
    "![](./img/stack3.png)"
   ]
  },
  {
   "cell_type": "code",
   "execution_count": 1,
   "metadata": {},
   "outputs": [],
   "source": [
    "#include <iostream>"
   ]
  },
  {
   "cell_type": "code",
   "execution_count": 2,
   "metadata": {},
   "outputs": [],
   "source": [
    "const int size=100;\n",
    "\n",
    "class Stack\n",
    "{\n",
    "    private:\n",
    "      int arr[size];\n",
    "      int top;\n",
    "    public:\n",
    "      Stack() {\n",
    "        top=-1;\n",
    "      }\n",
    "      bool isEmpty() {\n",
    "        return top==-1;\n",
    "      }\n",
    "      bool isFull() {\n",
    "        return top==size-1;\n",
    "      }\n",
    "      void push(int item) {\n",
    "         if(isFull()==true)\n",
    "           throw \"Stack is full!\";\n",
    "         else\n",
    "           arr[++top]=item;\n",
    "      }\n",
    "      int pop() {\n",
    "        if(isEmpty()==true)\n",
    "          throw \"Stack is empty!\";\n",
    "        else\n",
    "          return arr[top--];\n",
    "      }\n",
    "      void print() {\n",
    "          for(int i=0;i<=top;i++)\n",
    "              std::cout << arr[i] << \" \";\n",
    "          std::cout << std::endl;\n",
    "      }\n",
    "};"
   ]
  },
  {
   "cell_type": "code",
   "execution_count": 3,
   "metadata": {},
   "outputs": [
    {
     "name": "stdout",
     "output_type": "stream",
     "text": [
      "1 2 3 4 5 \n"
     ]
    }
   ],
   "source": [
    "Stack stack;\n",
    "stack.push(1);\n",
    "stack.push(2);\n",
    "stack.push(3);\n",
    "stack.push(4);\n",
    "stack.push(5);\n",
    "stack.print();"
   ]
  },
  {
   "cell_type": "code",
   "execution_count": 4,
   "metadata": {},
   "outputs": [
    {
     "name": "stdout",
     "output_type": "stream",
     "text": [
      "1 2 3 4 \n"
     ]
    }
   ],
   "source": [
    "int a=stack.pop(); \n",
    "stack.print();"
   ]
  },
  {
   "cell_type": "code",
   "execution_count": 5,
   "metadata": {},
   "outputs": [
    {
     "name": "stdout",
     "output_type": "stream",
     "text": [
      "1 2 3 \n"
     ]
    }
   ],
   "source": [
    "int b=stack.pop(); \n",
    "stack.print();"
   ]
  },
  {
   "cell_type": "markdown",
   "metadata": {},
   "source": [
    "## Очередь на массиве"
   ]
  },
  {
   "cell_type": "markdown",
   "metadata": {},
   "source": [
    "![](./img/circular-queue-wrap-around.png)"
   ]
  },
  {
   "cell_type": "code",
   "execution_count": 37,
   "metadata": {},
   "outputs": [],
   "source": [
    "class QueueSimple {\n",
    "private:\n",
    "    int * buf;\n",
    "    int head;\n",
    "    int tail;\n",
    "    int max_size;\n",
    "    bool full;\n",
    "public:\n",
    "    QueueSimple(int size)  {\n",
    "        buf=new int[size];\n",
    "        max_size = size;\n",
    "        head = tail = 0;\n",
    "        full = false;\n",
    "\n",
    "    }\n",
    "    void put(int item) {\n",
    "        buf[head] = item;\n",
    "        if(full)\n",
    "            tail = (tail + 1) % max_size;\n",
    "        \n",
    "        head = (head + 1) % max_size;\n",
    "        full = (head == tail);\n",
    "    }\n",
    "\n",
    "    int get() {\n",
    "        if(isEmpty())\n",
    "            throw \"Queue is empty!\";\n",
    "\n",
    "        int val = buf[tail];\n",
    "        full = false;\n",
    "        tail = (tail + 1) % max_size;\n",
    "        return val;\n",
    "    }\n",
    "\n",
    "    void reset()  {\n",
    "        head = tail;\n",
    "        full = false;\n",
    "    }\n",
    "\n",
    "    bool isEmpty() const {\n",
    "        return (!full && (head == tail));\n",
    "    }\n",
    "\n",
    "    bool isFull() const {\n",
    "        return full;\n",
    "    }\n",
    "\n",
    "    int capacity() const {\n",
    "        return max_size;\n",
    "    }\n",
    "\n",
    "    int size() const {\n",
    "        int size = max_size;\n",
    "\n",
    "        if(full==false)\n",
    "        {\n",
    "            if(head >= tail)\n",
    "                size = head - tail;\n",
    "            else\n",
    "                size = max_size + head - tail;\n",
    "            \n",
    "        }\n",
    "        return size;\n",
    "    }\n",
    "    void print() {\n",
    "        if(head == 0 && tail == 0)\n",
    "            std::cout << \"empty!\";\n",
    "        else if(head > tail)\n",
    "           for(int i = tail; i < head; i++)\n",
    "               std::cout << buf[i] << \" \";\n",
    "        else {\n",
    "            \n",
    "            for(int i = tail; i < max_size; i++)\n",
    "                std::cout << buf[i] << \" \";\n",
    "            for(int i = 0; i < head; i++)\n",
    "                std::cout << buf[i] << \" \";\n",
    "        }\n",
    "        //std::cout << \"*\" << head << \",\" << tail << \"* \" << std::endl; \n",
    "        std::cout << std::endl;\n",
    "    }\n",
    "};"
   ]
  },
  {
   "cell_type": "code",
   "execution_count": 38,
   "metadata": {},
   "outputs": [
    {
     "name": "stdout",
     "output_type": "stream",
     "text": [
      "1 \n",
      "1 2 3 4 \n",
      "2 3 4 \n",
      "2 3 4 5 \n",
      "2 3 4 5 6 \n",
      "3 4 5 6 \n"
     ]
    }
   ],
   "source": [
    "QueueSimple q(5);\n",
    "q.put(1);\n",
    "q.print();\n",
    "\n",
    "q.put(2);\n",
    "q.put(3);\n",
    "q.put(4);\n",
    "q.print();\n",
    "\n",
    "q.get();\n",
    "q.print();\n",
    "\n",
    "q.put(5);\n",
    "q.print();\n",
    "\n",
    "q.put(6);\n",
    "q.print();\n",
    "\n",
    "q.get();\n",
    "q.print();"
   ]
  },
  {
   "cell_type": "markdown",
   "metadata": {},
   "source": [
    "## Стек и очередь на связанном списке"
   ]
  },
  {
   "cell_type": "markdown",
   "metadata": {},
   "source": [
    "![](./img/linked-list.png)"
   ]
  },
  {
   "cell_type": "code",
   "execution_count": 46,
   "metadata": {},
   "outputs": [],
   "source": [
    "typedef int T;\n",
    "\n",
    "// Linked List\n",
    "class LList\n",
    "{\n",
    "    struct ITEM // один элемент списка\n",
    "    {\n",
    "        T data;      // полезные данные\n",
    "        ITEM * next; // ук-ль на след. элемент\n",
    "    };\n",
    "public:\n",
    "    LList():head(nullptr),tail(nullptr){}\n",
    "    LList(const T& value) {\n",
    "      head=create(value);\n",
    "      tail=head;\n",
    "    }\n",
    "    ~LList() {\n",
    "      while(head!=nullptr)\n",
    "        rmHead();\n",
    "    }\n",
    "    void addTail(const T& value) {\n",
    "       if(head!=nullptr && tail!=nullptr) {\n",
    "          tail->next=create(value);\n",
    "          tail=tail->next;\n",
    "       }\n",
    "       else {\n",
    "          head=create(value);\n",
    "          tail=head; \n",
    "       }\n",
    "    }\n",
    "        \n",
    "    void addHead(const T& value ) {\n",
    "       if(head!=nullptr && tail!=nullptr) {\n",
    "          ITEM *item=create(value);\n",
    "          item->next=head;\n",
    "          head=item;\n",
    "       }\n",
    "       else {\n",
    "         head=create(value);\n",
    "         tail=head; \n",
    "       }\n",
    "    }\n",
    "    \n",
    "    T rmHead() {\n",
    "       if(head!=nullptr) {\n",
    "          ITEM* item=head->next;\n",
    "          T value=head->data;\n",
    "          delete head;\n",
    "          head=item;\n",
    "          return value;\n",
    "       }\n",
    "       else\n",
    "          throw \"List is empty!\";\n",
    "    }\n",
    "    void print() const {\n",
    "       ITEM *item=head;\n",
    "       while(item!=nullptr) {\n",
    "          std::cout << item->data << \" \";\n",
    "          item=item->next;\n",
    "       }\n",
    "       std::cout << std::endl;\n",
    "    }\n",
    "    void push(const T& value) {\n",
    "       if(head!=nullptr && tail!=nullptr) {\n",
    "           ITEM *item=create(value);\n",
    "           item->next=head;\n",
    "           head=item;\n",
    "       }\n",
    "       else {\n",
    "          head=create(value);\n",
    "          tail=head; \n",
    "       }\n",
    "    }\n",
    "    void pop() {\n",
    "       ITEM *item=head;\n",
    "       std::cout << item->data << \" \";\n",
    "       this->rmHead();\n",
    "    }\n",
    "private:\n",
    "    ITEM* create(const T& value) {\n",
    "      ITEM *item=new ITEM;\n",
    "      item->data=value;\n",
    "      item->next=nullptr;\n",
    "      return item;\n",
    "    }\n",
    "    ITEM *head;\n",
    "    ITEM *tail;\n",
    "};\n",
    "\n"
   ]
  },
  {
   "cell_type": "code",
   "execution_count": 49,
   "metadata": {},
   "outputs": [
    {
     "name": "stdout",
     "output_type": "stream",
     "text": [
      "4 3 15 \n",
      "4 3 "
     ]
    }
   ],
   "source": [
    "LList list;\n",
    "list.push(15);\n",
    "list.push(3);\n",
    "list.push(4);\n",
    "list.print();\n",
    "list.pop();\n",
    "list.pop();"
   ]
  },
  {
   "cell_type": "code",
   "execution_count": null,
   "metadata": {},
   "outputs": [],
   "source": []
  }
 ],
 "metadata": {
  "kernelspec": {
   "display_name": "C++11 [conda env:xeus-cling]",
   "language": "C++11",
   "name": "conda-env-xeus-cling-xcpp11"
  },
  "language_info": {
   "codemirror_mode": "text/x-c++src",
   "file_extension": ".cpp",
   "mimetype": "text/x-c++src",
   "name": "c++",
   "version": "11"
  }
 },
 "nbformat": 4,
 "nbformat_minor": 4
}
